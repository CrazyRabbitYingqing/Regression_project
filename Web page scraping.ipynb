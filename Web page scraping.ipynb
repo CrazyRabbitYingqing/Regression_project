{
 "cells": [
  {
   "cell_type": "markdown",
   "id": "447c8cb5",
   "metadata": {},
   "source": [
    "## Web Page Data Scratching"
   ]
  },
  {
   "cell_type": "code",
   "execution_count": 28,
   "id": "b9222ab4",
   "metadata": {},
   "outputs": [],
   "source": [
    "import requests, bs4\n",
    "from bs4 import BeautifulSoup as bs\n",
    "import pandas as pd\n",
    "from datetime import datetime \n",
    "import statsmodels.api as sm\n",
    "import seaborn as sns\n",
    "import numpy as np\n",
    "import matplotlib.pyplot as plt\n",
    "import csv"
   ]
  },
  {
   "cell_type": "markdown",
   "id": "292c0ea6",
   "metadata": {},
   "source": [
    "Scraping six years' movie data for analysis."
   ]
  },
  {
   "cell_type": "code",
   "execution_count": 29,
   "id": "6b612962",
   "metadata": {},
   "outputs": [
    {
     "name": "stdout",
     "output_type": "stream",
     "text": [
      "hhh\n",
      "hhh\n",
      "hhh\n",
      "hhh\n",
      "hhh\n",
      "hhh\n",
      "hhh\n",
      "hhh\n",
      "hhh\n",
      "hhh\n",
      "hhh\n",
      "hhh\n"
     ]
    }
   ],
   "source": [
    "test_pipeline_list = []\n",
    "url_base = 'https://www.boxofficemojo.com/year/'\n",
    "url_main = 'https://www.boxofficemojo.com/'\n",
    "#url_list = [url_base+str(i) for i in range(2016,2017)]\n",
    "title = []\n",
    "theater = []\n",
    "Domestic_gross = []\n",
    "release_date = []\n",
    "Release_Period = []\n",
    "distributer = []\n",
    "International_gross = []\n",
    "Genres = []\n",
    "In_Release = []\n",
    "Worldwide = []\n",
    "MPAA = []\n",
    "Budget = []\n",
    "Running_Time = []\n",
    "for i in range(2010,2022):\n",
    "    url = url_base+str(i)\n",
    "    page = requests.get(url).text\n",
    "    soup = bs(page)\n",
    "## weekday or not; start quarantine or not\n",
    "    for div in soup.find_all(class_='a-section mojo-body aok-relative'):\n",
    "        title.extend([title_tag.text for title_tag in div.find_all(class_='a-text-left mojo-field-type-release mojo-cell-wide')])\n",
    "        web_each = [web_tag.find(href = True)['href'] for web_tag in div.find_all(class_='a-text-left mojo-field-type-release mojo-cell-wide')]\n",
    "        \n",
    "        for j in range(len(web_each)):\n",
    "            page_2nd = requests.get(url_main+web_each[j]).text\n",
    "            soup_2nd = bs(page_2nd)\n",
    "            \n",
    "            try: \n",
    "                Domestic_gross.extend(int(Domestic_tag.text.replace(',','').replace('$','').strip()) for Domestic_tag in soup_2nd.find_all(class_='money')[0])\n",
    "            except:\n",
    "                Domestic_gross.append(np.nan)\n",
    "            \n",
    "            try: \n",
    "                International_gross.extend(int(International_tag.text.replace(',','').replace('$','').strip()) for International_tag in soup_2nd.find_all(class_='money')[1])\n",
    "            except:\n",
    "                International_gross.append(np.nan)\n",
    "            \n",
    "            try:\n",
    "                Worldwide.extend(int(Worldwide_tag.text.replace(',','').replace('$','').strip()) for Worldwide_tag in soup_2nd.find_all(class_='money')[2])\n",
    "            except:\n",
    "                Worldwide.append(np.nan)\n",
    "                \n",
    "            try:  \n",
    "                Genres.append(soup_2nd.find(\"span\", string = \"Genres\").next_sibling.text.replace('\\n',''))\n",
    "            except:\n",
    "                Genres.append(np.nan)\n",
    "\n",
    "            try:  \n",
    "                MPAA.extend(soup_2nd.find(\"span\", string = \"MPAA\").next_sibling)\n",
    "            except:\n",
    "                MPAA.append(np.nan)\n",
    "\n",
    "            try:  \n",
    "                Running_Time.extend(soup_2nd.find(\"span\", string = \"Running Time\").next_sibling)\n",
    "            except:\n",
    "                Running_Time.append(np.nan)\n",
    "\n",
    "            try:\n",
    "                In_Release.extend(soup_2nd.find(\"span\", string = \"In Release\").next_sibling)\n",
    "            except:\n",
    "                In_Release.append(np.nan)\n",
    "\n",
    "            try:\n",
    "                Release_Period.append(soup_2nd.find(\"span\", string = \"Release Date\").next_sibling.text.replace(',','').replace('\\n',''))\n",
    "            except:\n",
    "                Release_Period.append(np.nan)\n",
    "\n",
    "            try:\n",
    "                Budget.append(int(soup_2nd.find(\"span\", string = \"Budget\").next_sibling.text.replace(',','').replace('$','')))\n",
    "            except:\n",
    "                Budget.append(np.nan)\n",
    "\n",
    "        \n",
    "        print('hhh')\n",
    "        theater.extend([theater_tag.text.replace(',','').strip() for theater_tag in div.find_all(class_='a-text-right mojo-field-type-positive_integer')])\n",
    "        #Gross.extend([int(Gross_tag.text.replace(',','').replace('$','').strip()) for Gross_tag in div.find_all(class_='a-text-right mojo-field-type-money mojo-estimatable')[0:200]])\n",
    "        release_date.extend([release_date_tag.text+' '+url[-4:] for release_date_tag in div.find_all(class_='a-text-left mojo-field-type-date a-nowrap')])\n",
    "        distributer.extend([distributer_tag.text.replace('\\n','') for distributer_tag in div.find_all(class_='a-text-left mojo-field-type-studio')])\n",
    "    \n",
    "  \n",
    "    #test_pipeline_list = {'Worldwide':Worldwide,'Genres':Genres, 'In_release': In_Release,'title': title, 'Domestic_gross': Gross,'theater': theater,'release_date':release_date ,'distributer':distributer,'International_gross':International_gross}\n",
    "test_pipeline_list = {'Title':title,'Domestic_gross': Domestic_gross,'International_gross':International_gross,'Worldwide':Worldwide,'theater': theater,'release_date':release_date,'Release_Period':Release_Period,'distributer':distributer,'Genres':Genres,'MPAA':MPAA, 'Running_Time': Running_Time,'Budget':Budget}\n",
    "    #test_pipeline_list = {'Title':title,'MPAA':MPAA}\n",
    "\n",
    "    #with open('project_data2/'+str(i)+'_data.csv', 'w') as f:\n",
    "        #for key in test_pipeline_list.keys():\n",
    "            #f.write(\"%s,%s\\n\"%(key,test_pipeline_list[key]))"
   ]
  },
  {
   "cell_type": "code",
   "execution_count": null,
   "id": "c921e916",
   "metadata": {},
   "outputs": [],
   "source": []
  },
  {
   "cell_type": "code",
   "execution_count": null,
   "id": "c62fbeca",
   "metadata": {},
   "outputs": [],
   "source": []
  },
  {
   "cell_type": "code",
   "execution_count": null,
   "id": "bc922b14",
   "metadata": {},
   "outputs": [],
   "source": []
  },
  {
   "cell_type": "code",
   "execution_count": null,
   "id": "31c74c5c",
   "metadata": {},
   "outputs": [],
   "source": []
  },
  {
   "cell_type": "code",
   "execution_count": null,
   "id": "ca041f87",
   "metadata": {},
   "outputs": [],
   "source": []
  },
  {
   "cell_type": "code",
   "execution_count": null,
   "id": "0b3804ef",
   "metadata": {},
   "outputs": [],
   "source": []
  },
  {
   "cell_type": "code",
   "execution_count": null,
   "id": "ef93c3c0",
   "metadata": {},
   "outputs": [],
   "source": []
  },
  {
   "cell_type": "code",
   "execution_count": 30,
   "id": "9c01eea7",
   "metadata": {},
   "outputs": [
    {
     "name": "stdout",
     "output_type": "stream",
     "text": [
      "<class 'pandas.core.frame.DataFrame'>\n",
      "RangeIndex: 2400 entries, 0 to 2399\n",
      "Data columns (total 12 columns):\n",
      " #   Column               Non-Null Count  Dtype \n",
      "---  ------               --------------  ----- \n",
      " 0   Title                2400 non-null   object\n",
      " 1   Domestic_gross       2400 non-null   object\n",
      " 2   International_gross  2400 non-null   object\n",
      " 3   Worldwide            2395 non-null   object\n",
      " 4   theater              2400 non-null   object\n",
      " 5   release_date         2400 non-null   object\n",
      " 6   Release_Period       2131 non-null   object\n",
      " 7   distributer          2400 non-null   object\n",
      " 8   Genres               2396 non-null   object\n",
      " 9   MPAA                 2219 non-null   object\n",
      " 10  Running_Time         2397 non-null   object\n",
      " 11  Budget               1389 non-null   object\n",
      "dtypes: object(12)\n",
      "memory usage: 225.1+ KB\n"
     ]
    }
   ],
   "source": [
    "#pipeline_df.size\n",
    "pipeline_df = pd.DataFrame.from_dict(test_pipeline_list, orient='index')\n",
    "pipeline_df = pipeline_df.transpose()\n",
    "pipeline_df.head()\n",
    "pipeline_df.info()"
   ]
  },
  {
   "cell_type": "code",
   "execution_count": 31,
   "id": "0fcea408",
   "metadata": {},
   "outputs": [],
   "source": [
    "pipeline_df.to_csv('project_data2/regression_data.csv',index = False)"
   ]
  },
  {
   "cell_type": "code",
   "execution_count": null,
   "id": "bec5c5e4",
   "metadata": {},
   "outputs": [],
   "source": []
  },
  {
   "cell_type": "code",
   "execution_count": null,
   "id": "7db7f8fc",
   "metadata": {},
   "outputs": [],
   "source": []
  },
  {
   "cell_type": "code",
   "execution_count": null,
   "id": "987dd719",
   "metadata": {},
   "outputs": [],
   "source": [
    "\n"
   ]
  },
  {
   "cell_type": "code",
   "execution_count": null,
   "id": "559f3e57",
   "metadata": {},
   "outputs": [],
   "source": [
    "\n"
   ]
  },
  {
   "cell_type": "code",
   "execution_count": null,
   "id": "ec705715",
   "metadata": {},
   "outputs": [],
   "source": []
  },
  {
   "cell_type": "code",
   "execution_count": null,
   "id": "10ad48ab",
   "metadata": {},
   "outputs": [],
   "source": []
  },
  {
   "cell_type": "code",
   "execution_count": null,
   "id": "8cc62022",
   "metadata": {},
   "outputs": [],
   "source": []
  },
  {
   "cell_type": "code",
   "execution_count": null,
   "id": "f7865c5d",
   "metadata": {},
   "outputs": [],
   "source": []
  },
  {
   "cell_type": "code",
   "execution_count": null,
   "id": "ffe6899f",
   "metadata": {},
   "outputs": [],
   "source": []
  },
  {
   "cell_type": "code",
   "execution_count": null,
   "id": "f49a7bb3",
   "metadata": {},
   "outputs": [],
   "source": []
  },
  {
   "cell_type": "code",
   "execution_count": null,
   "id": "88ba38d4",
   "metadata": {},
   "outputs": [],
   "source": []
  },
  {
   "cell_type": "code",
   "execution_count": null,
   "id": "5d326a7e",
   "metadata": {},
   "outputs": [],
   "source": []
  },
  {
   "cell_type": "code",
   "execution_count": null,
   "id": "01977e86",
   "metadata": {},
   "outputs": [],
   "source": []
  },
  {
   "cell_type": "code",
   "execution_count": null,
   "id": "245b1c35",
   "metadata": {},
   "outputs": [],
   "source": []
  },
  {
   "cell_type": "code",
   "execution_count": null,
   "id": "f618e7f3",
   "metadata": {},
   "outputs": [],
   "source": []
  },
  {
   "cell_type": "code",
   "execution_count": null,
   "id": "105c71a2",
   "metadata": {},
   "outputs": [],
   "source": []
  }
 ],
 "metadata": {
  "kernelspec": {
   "display_name": "Python [conda env:metis] *",
   "language": "python",
   "name": "conda-env-metis-py"
  },
  "language_info": {
   "codemirror_mode": {
    "name": "ipython",
    "version": 3
   },
   "file_extension": ".py",
   "mimetype": "text/x-python",
   "name": "python",
   "nbconvert_exporter": "python",
   "pygments_lexer": "ipython3",
   "version": "3.9.7"
  }
 },
 "nbformat": 4,
 "nbformat_minor": 5
}
